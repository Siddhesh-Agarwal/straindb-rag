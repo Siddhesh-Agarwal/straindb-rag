{
 "cells": [
  {
   "cell_type": "markdown",
   "metadata": {},
   "source": [
    "## Clean the Data"
   ]
  },
  {
   "cell_type": "code",
   "execution_count": 16,
   "metadata": {},
   "outputs": [
    {
     "name": "stdout",
     "output_type": "stream",
     "text": [
      "Requirement already satisfied: langchain in ./env/lib/python3.9/site-packages (0.1.13)\n",
      "Collecting langchain\n",
      "  Using cached langchain-0.1.13-py3-none-any.whl (810 kB)\n",
      "  Using cached langchain-0.1.12-py3-none-any.whl (809 kB)\n",
      "Requirement already satisfied: langchain-openai in ./env/lib/python3.9/site-packages (0.1.1)\n",
      "Collecting langchain-openai\n",
      "  Using cached langchain_openai-0.1.1-py3-none-any.whl (32 kB)\n",
      "  Using cached langchain_openai-0.0.8-py3-none-any.whl (32 kB)\n",
      "Requirement already satisfied: chromadb in ./env/lib/python3.9/site-packages (0.4.24)\n",
      "Collecting chromadb\n",
      "  Using cached chromadb-0.4.24-py3-none-any.whl (525 kB)\n",
      "  Using cached chromadb-0.4.23-py3-none-any.whl (521 kB)\n",
      "Requirement already satisfied: pydantic>=1.9 in ./env/lib/python3.9/site-packages (from chromadb) (2.6.4)\n",
      "Requirement already satisfied: PyYAML>=6.0.0 in ./env/lib/python3.9/site-packages (from chromadb) (6.0.1)\n",
      "Requirement already satisfied: overrides>=7.3.1 in ./env/lib/python3.9/site-packages (from chromadb) (7.7.0)\n",
      "Requirement already satisfied: requests>=2.28 in ./env/lib/python3.9/site-packages (from chromadb) (2.31.0)\n",
      "Requirement already satisfied: mmh3>=4.0.1 in ./env/lib/python3.9/site-packages (from chromadb) (4.1.0)\n",
      "Requirement already satisfied: opentelemetry-sdk>=1.2.0 in ./env/lib/python3.9/site-packages (from chromadb) (1.24.0)\n",
      "Requirement already satisfied: onnxruntime>=1.14.1 in ./env/lib/python3.9/site-packages (from chromadb) (1.17.1)\n",
      "Requirement already satisfied: uvicorn[standard]>=0.18.3 in ./env/lib/python3.9/site-packages (from chromadb) (0.29.0)\n",
      "Requirement already satisfied: opentelemetry-exporter-otlp-proto-grpc>=1.2.0 in ./env/lib/python3.9/site-packages (from chromadb) (1.24.0)\n",
      "Requirement already satisfied: importlib-resources in ./env/lib/python3.9/site-packages (from chromadb) (6.4.0)\n",
      "Requirement already satisfied: grpcio>=1.58.0 in ./env/lib/python3.9/site-packages (from chromadb) (1.62.1)\n",
      "Requirement already satisfied: tenacity>=8.2.3 in ./env/lib/python3.9/site-packages (from chromadb) (8.2.3)\n",
      "Requirement already satisfied: orjson>=3.9.12 in ./env/lib/python3.9/site-packages (from chromadb) (3.10.0)\n",
      "Requirement already satisfied: bcrypt>=4.0.1 in ./env/lib/python3.9/site-packages (from chromadb) (4.1.2)\n",
      "Requirement already satisfied: typing-extensions>=4.5.0 in ./env/lib/python3.9/site-packages (from chromadb) (4.10.0)\n",
      "Requirement already satisfied: build>=1.0.3 in ./env/lib/python3.9/site-packages (from chromadb) (1.2.1)\n",
      "Requirement already satisfied: kubernetes>=28.1.0 in ./env/lib/python3.9/site-packages (from chromadb) (29.0.0)\n",
      "Requirement already satisfied: opentelemetry-instrumentation-fastapi>=0.41b0 in ./env/lib/python3.9/site-packages (from chromadb) (0.45b0)\n",
      "Requirement already satisfied: typer>=0.9.0 in ./env/lib/python3.9/site-packages (from chromadb) (0.12.0)\n",
      "Requirement already satisfied: fastapi>=0.95.2 in ./env/lib/python3.9/site-packages (from chromadb) (0.110.0)\n",
      "Requirement already satisfied: posthog>=2.4.0 in ./env/lib/python3.9/site-packages (from chromadb) (3.5.0)\n",
      "Requirement already satisfied: numpy>=1.22.5 in ./env/lib/python3.9/site-packages (from chromadb) (1.26.4)\n",
      "Requirement already satisfied: chroma-hnswlib==0.7.3 in ./env/lib/python3.9/site-packages (from chromadb) (0.7.3)\n",
      "Requirement already satisfied: tokenizers>=0.13.2 in ./env/lib/python3.9/site-packages (from chromadb) (0.15.2)\n",
      "Requirement already satisfied: opentelemetry-api>=1.2.0 in ./env/lib/python3.9/site-packages (from chromadb) (1.24.0)\n",
      "Requirement already satisfied: pypika>=0.48.9 in ./env/lib/python3.9/site-packages (from chromadb) (0.48.9)\n",
      "Requirement already satisfied: pulsar-client>=3.1.0 in ./env/lib/python3.9/site-packages (from chromadb) (3.4.0)\n",
      "Requirement already satisfied: tqdm>=4.65.0 in ./env/lib/python3.9/site-packages (from chromadb) (4.66.2)\n",
      "Requirement already satisfied: pyproject_hooks in ./env/lib/python3.9/site-packages (from build>=1.0.3->chromadb) (1.0.0)\n",
      "Requirement already satisfied: packaging>=19.1 in ./env/lib/python3.9/site-packages (from build>=1.0.3->chromadb) (23.2)\n",
      "Requirement already satisfied: tomli>=1.1.0 in ./env/lib/python3.9/site-packages (from build>=1.0.3->chromadb) (2.0.1)\n",
      "Requirement already satisfied: importlib-metadata>=4.6 in ./env/lib/python3.9/site-packages (from build>=1.0.3->chromadb) (7.0.0)\n",
      "Requirement already satisfied: starlette<0.37.0,>=0.36.3 in ./env/lib/python3.9/site-packages (from fastapi>=0.95.2->chromadb) (0.36.3)\n",
      "Requirement already satisfied: zipp>=0.5 in ./env/lib/python3.9/site-packages (from importlib-metadata>=4.6->build>=1.0.3->chromadb) (3.18.1)\n",
      "Requirement already satisfied: requests-oauthlib in ./env/lib/python3.9/site-packages (from kubernetes>=28.1.0->chromadb) (2.0.0)\n",
      "Requirement already satisfied: python-dateutil>=2.5.3 in ./env/lib/python3.9/site-packages (from kubernetes>=28.1.0->chromadb) (2.9.0.post0)\n",
      "Requirement already satisfied: certifi>=14.05.14 in ./env/lib/python3.9/site-packages (from kubernetes>=28.1.0->chromadb) (2024.2.2)\n",
      "Requirement already satisfied: urllib3>=1.24.2 in ./env/lib/python3.9/site-packages (from kubernetes>=28.1.0->chromadb) (2.2.1)\n",
      "Requirement already satisfied: google-auth>=1.0.1 in ./env/lib/python3.9/site-packages (from kubernetes>=28.1.0->chromadb) (2.29.0)\n",
      "Requirement already satisfied: oauthlib>=3.2.2 in ./env/lib/python3.9/site-packages (from kubernetes>=28.1.0->chromadb) (3.2.2)\n",
      "Requirement already satisfied: websocket-client!=0.40.0,!=0.41.*,!=0.42.*,>=0.32.0 in ./env/lib/python3.9/site-packages (from kubernetes>=28.1.0->chromadb) (1.7.0)\n",
      "Requirement already satisfied: six>=1.9.0 in ./env/lib/python3.9/site-packages (from kubernetes>=28.1.0->chromadb) (1.16.0)\n",
      "Requirement already satisfied: pyasn1-modules>=0.2.1 in ./env/lib/python3.9/site-packages (from google-auth>=1.0.1->kubernetes>=28.1.0->chromadb) (0.4.0)\n",
      "Requirement already satisfied: rsa<5,>=3.1.4 in ./env/lib/python3.9/site-packages (from google-auth>=1.0.1->kubernetes>=28.1.0->chromadb) (4.9)\n",
      "Requirement already satisfied: cachetools<6.0,>=2.0.0 in ./env/lib/python3.9/site-packages (from google-auth>=1.0.1->kubernetes>=28.1.0->chromadb) (5.3.3)\n",
      "Requirement already satisfied: flatbuffers in ./env/lib/python3.9/site-packages (from onnxruntime>=1.14.1->chromadb) (24.3.25)\n",
      "Requirement already satisfied: protobuf in ./env/lib/python3.9/site-packages (from onnxruntime>=1.14.1->chromadb) (4.25.3)\n",
      "Requirement already satisfied: coloredlogs in ./env/lib/python3.9/site-packages (from onnxruntime>=1.14.1->chromadb) (15.0.1)\n",
      "Requirement already satisfied: sympy in ./env/lib/python3.9/site-packages (from onnxruntime>=1.14.1->chromadb) (1.12)\n",
      "Requirement already satisfied: deprecated>=1.2.6 in ./env/lib/python3.9/site-packages (from opentelemetry-api>=1.2.0->chromadb) (1.2.14)\n",
      "Requirement already satisfied: wrapt<2,>=1.10 in ./env/lib/python3.9/site-packages (from deprecated>=1.2.6->opentelemetry-api>=1.2.0->chromadb) (1.16.0)\n",
      "Requirement already satisfied: googleapis-common-protos~=1.52 in ./env/lib/python3.9/site-packages (from opentelemetry-exporter-otlp-proto-grpc>=1.2.0->chromadb) (1.63.0)\n",
      "Requirement already satisfied: opentelemetry-proto==1.24.0 in ./env/lib/python3.9/site-packages (from opentelemetry-exporter-otlp-proto-grpc>=1.2.0->chromadb) (1.24.0)\n",
      "Requirement already satisfied: opentelemetry-exporter-otlp-proto-common==1.24.0 in ./env/lib/python3.9/site-packages (from opentelemetry-exporter-otlp-proto-grpc>=1.2.0->chromadb) (1.24.0)\n",
      "Requirement already satisfied: opentelemetry-util-http==0.45b0 in ./env/lib/python3.9/site-packages (from opentelemetry-instrumentation-fastapi>=0.41b0->chromadb) (0.45b0)\n",
      "Requirement already satisfied: opentelemetry-instrumentation-asgi==0.45b0 in ./env/lib/python3.9/site-packages (from opentelemetry-instrumentation-fastapi>=0.41b0->chromadb) (0.45b0)\n",
      "Requirement already satisfied: opentelemetry-semantic-conventions==0.45b0 in ./env/lib/python3.9/site-packages (from opentelemetry-instrumentation-fastapi>=0.41b0->chromadb) (0.45b0)\n",
      "Requirement already satisfied: opentelemetry-instrumentation==0.45b0 in ./env/lib/python3.9/site-packages (from opentelemetry-instrumentation-fastapi>=0.41b0->chromadb) (0.45b0)\n",
      "Requirement already satisfied: setuptools>=16.0 in ./env/lib/python3.9/site-packages (from opentelemetry-instrumentation==0.45b0->opentelemetry-instrumentation-fastapi>=0.41b0->chromadb) (44.1.1)\n",
      "Requirement already satisfied: asgiref~=3.0 in ./env/lib/python3.9/site-packages (from opentelemetry-instrumentation-asgi==0.45b0->opentelemetry-instrumentation-fastapi>=0.41b0->chromadb) (3.8.1)\n",
      "Requirement already satisfied: monotonic>=1.5 in ./env/lib/python3.9/site-packages (from posthog>=2.4.0->chromadb) (1.6)\n",
      "Requirement already satisfied: backoff>=1.10.0 in ./env/lib/python3.9/site-packages (from posthog>=2.4.0->chromadb) (2.2.1)\n",
      "Requirement already satisfied: pyasn1<0.7.0,>=0.4.6 in ./env/lib/python3.9/site-packages (from pyasn1-modules>=0.2.1->google-auth>=1.0.1->kubernetes>=28.1.0->chromadb) (0.6.0)\n",
      "Requirement already satisfied: pydantic-core==2.16.3 in ./env/lib/python3.9/site-packages (from pydantic>=1.9->chromadb) (2.16.3)\n",
      "Requirement already satisfied: annotated-types>=0.4.0 in ./env/lib/python3.9/site-packages (from pydantic>=1.9->chromadb) (0.6.0)\n",
      "Requirement already satisfied: idna<4,>=2.5 in ./env/lib/python3.9/site-packages (from requests>=2.28->chromadb) (3.6)\n",
      "Requirement already satisfied: charset-normalizer<4,>=2 in ./env/lib/python3.9/site-packages (from requests>=2.28->chromadb) (3.3.2)\n",
      "Requirement already satisfied: anyio<5,>=3.4.0 in ./env/lib/python3.9/site-packages (from starlette<0.37.0,>=0.36.3->fastapi>=0.95.2->chromadb) (4.3.0)\n",
      "Requirement already satisfied: exceptiongroup>=1.0.2 in ./env/lib/python3.9/site-packages (from anyio<5,>=3.4.0->starlette<0.37.0,>=0.36.3->fastapi>=0.95.2->chromadb) (1.2.0)\n",
      "Requirement already satisfied: sniffio>=1.1 in ./env/lib/python3.9/site-packages (from anyio<5,>=3.4.0->starlette<0.37.0,>=0.36.3->fastapi>=0.95.2->chromadb) (1.3.1)\n",
      "Requirement already satisfied: huggingface_hub<1.0,>=0.16.4 in ./env/lib/python3.9/site-packages (from tokenizers>=0.13.2->chromadb) (0.22.2)\n",
      "Requirement already satisfied: filelock in ./env/lib/python3.9/site-packages (from huggingface_hub<1.0,>=0.16.4->tokenizers>=0.13.2->chromadb) (3.13.3)\n",
      "Requirement already satisfied: fsspec>=2023.5.0 in ./env/lib/python3.9/site-packages (from huggingface_hub<1.0,>=0.16.4->tokenizers>=0.13.2->chromadb) (2024.3.1)\n",
      "Requirement already satisfied: typer-slim[standard]==0.12.0 in ./env/lib/python3.9/site-packages (from typer>=0.9.0->chromadb) (0.12.0)\n",
      "Requirement already satisfied: typer-cli==0.12.0 in ./env/lib/python3.9/site-packages (from typer>=0.9.0->chromadb) (0.12.0)\n",
      "Requirement already satisfied: click>=8.0.0 in ./env/lib/python3.9/site-packages (from typer-slim[standard]==0.12.0->typer>=0.9.0->chromadb) (8.1.7)\n",
      "Requirement already satisfied: rich>=10.11.0 in ./env/lib/python3.9/site-packages (from typer-slim[standard]==0.12.0->typer>=0.9.0->chromadb) (13.7.1)\n",
      "Requirement already satisfied: shellingham>=1.3.0 in ./env/lib/python3.9/site-packages (from typer-slim[standard]==0.12.0->typer>=0.9.0->chromadb) (1.5.4)\n",
      "Requirement already satisfied: pygments<3.0.0,>=2.13.0 in ./env/lib/python3.9/site-packages (from rich>=10.11.0->typer-slim[standard]==0.12.0->typer>=0.9.0->chromadb) (2.17.2)\n",
      "Requirement already satisfied: markdown-it-py>=2.2.0 in ./env/lib/python3.9/site-packages (from rich>=10.11.0->typer-slim[standard]==0.12.0->typer>=0.9.0->chromadb) (3.0.0)\n",
      "Requirement already satisfied: mdurl~=0.1 in ./env/lib/python3.9/site-packages (from markdown-it-py>=2.2.0->rich>=10.11.0->typer-slim[standard]==0.12.0->typer>=0.9.0->chromadb) (0.1.2)\n",
      "Requirement already satisfied: h11>=0.8 in ./env/lib/python3.9/site-packages (from uvicorn[standard]>=0.18.3->chromadb) (0.14.0)\n",
      "Requirement already satisfied: python-dotenv>=0.13 in ./env/lib/python3.9/site-packages (from uvicorn[standard]>=0.18.3->chromadb) (1.0.1)\n",
      "Requirement already satisfied: watchfiles>=0.13 in ./env/lib/python3.9/site-packages (from uvicorn[standard]>=0.18.3->chromadb) (0.21.0)\n",
      "Requirement already satisfied: uvloop!=0.15.0,!=0.15.1,>=0.14.0 in ./env/lib/python3.9/site-packages (from uvicorn[standard]>=0.18.3->chromadb) (0.19.0)\n",
      "Requirement already satisfied: websockets>=10.4 in ./env/lib/python3.9/site-packages (from uvicorn[standard]>=0.18.3->chromadb) (12.0)\n",
      "Requirement already satisfied: httptools>=0.5.0 in ./env/lib/python3.9/site-packages (from uvicorn[standard]>=0.18.3->chromadb) (0.6.1)\n",
      "Requirement already satisfied: SQLAlchemy<3,>=1.4 in ./env/lib/python3.9/site-packages (from langchain) (2.0.29)\n",
      "Requirement already satisfied: jsonpatch<2.0,>=1.33 in ./env/lib/python3.9/site-packages (from langchain) (1.33)\n",
      "Requirement already satisfied: dataclasses-json<0.7,>=0.5.7 in ./env/lib/python3.9/site-packages (from langchain) (0.6.4)\n",
      "Requirement already satisfied: langchain-community<0.1,>=0.0.29 in ./env/lib/python3.9/site-packages (from langchain) (0.0.29)\n",
      "Requirement already satisfied: langchain-text-splitters<0.1,>=0.0.1 in ./env/lib/python3.9/site-packages (from langchain) (0.0.1)\n",
      "Requirement already satisfied: langsmith<0.2.0,>=0.1.17 in ./env/lib/python3.9/site-packages (from langchain) (0.1.38)\n",
      "Requirement already satisfied: async-timeout<5.0.0,>=4.0.0 in ./env/lib/python3.9/site-packages (from langchain) (4.0.3)\n",
      "Requirement already satisfied: langchain-core<0.2.0,>=0.1.33 in ./env/lib/python3.9/site-packages (from langchain) (0.1.36)\n",
      "Requirement already satisfied: aiohttp<4.0.0,>=3.8.3 in ./env/lib/python3.9/site-packages (from langchain) (3.9.3)\n",
      "Requirement already satisfied: yarl<2.0,>=1.0 in ./env/lib/python3.9/site-packages (from aiohttp<4.0.0,>=3.8.3->langchain) (1.9.4)\n",
      "Requirement already satisfied: frozenlist>=1.1.1 in ./env/lib/python3.9/site-packages (from aiohttp<4.0.0,>=3.8.3->langchain) (1.4.1)\n",
      "Requirement already satisfied: aiosignal>=1.1.2 in ./env/lib/python3.9/site-packages (from aiohttp<4.0.0,>=3.8.3->langchain) (1.3.1)\n",
      "Requirement already satisfied: attrs>=17.3.0 in ./env/lib/python3.9/site-packages (from aiohttp<4.0.0,>=3.8.3->langchain) (23.2.0)\n",
      "Requirement already satisfied: multidict<7.0,>=4.5 in ./env/lib/python3.9/site-packages (from aiohttp<4.0.0,>=3.8.3->langchain) (6.0.5)\n",
      "Requirement already satisfied: typing-inspect<1,>=0.4.0 in ./env/lib/python3.9/site-packages (from dataclasses-json<0.7,>=0.5.7->langchain) (0.9.0)\n",
      "Requirement already satisfied: marshmallow<4.0.0,>=3.18.0 in ./env/lib/python3.9/site-packages (from dataclasses-json<0.7,>=0.5.7->langchain) (3.21.1)\n",
      "Requirement already satisfied: jsonpointer>=1.9 in ./env/lib/python3.9/site-packages (from jsonpatch<2.0,>=1.33->langchain) (2.4)\n",
      "Requirement already satisfied: greenlet!=0.4.17 in ./env/lib/python3.9/site-packages (from SQLAlchemy<3,>=1.4->langchain) (3.0.3)\n",
      "Requirement already satisfied: mypy-extensions>=0.3.0 in ./env/lib/python3.9/site-packages (from typing-inspect<1,>=0.4.0->dataclasses-json<0.7,>=0.5.7->langchain) (1.0.0)\n",
      "Requirement already satisfied: openai<2.0.0,>=1.10.0 in ./env/lib/python3.9/site-packages (from langchain-openai) (1.14.3)\n",
      "Requirement already satisfied: tiktoken<1,>=0.5.2 in ./env/lib/python3.9/site-packages (from langchain-openai) (0.6.0)\n",
      "Requirement already satisfied: httpx<1,>=0.23.0 in ./env/lib/python3.9/site-packages (from openai<2.0.0,>=1.10.0->langchain-openai) (0.27.0)\n",
      "Requirement already satisfied: distro<2,>=1.7.0 in ./env/lib/python3.9/site-packages (from openai<2.0.0,>=1.10.0->langchain-openai) (1.9.0)\n",
      "Requirement already satisfied: httpcore==1.* in ./env/lib/python3.9/site-packages (from httpx<1,>=0.23.0->openai<2.0.0,>=1.10.0->langchain-openai) (1.0.5)\n",
      "Requirement already satisfied: regex>=2022.1.18 in ./env/lib/python3.9/site-packages (from tiktoken<1,>=0.5.2->langchain-openai) (2023.12.25)\n",
      "Requirement already satisfied: humanfriendly>=9.1 in ./env/lib/python3.9/site-packages (from coloredlogs->onnxruntime>=1.14.1->chromadb) (10.0)\n",
      "Requirement already satisfied: mpmath>=0.19 in ./env/lib/python3.9/site-packages (from sympy->onnxruntime>=1.14.1->chromadb) (1.3.0)\n",
      "Note: you may need to restart the kernel to use updated packages.\n"
     ]
    }
   ],
   "source": [
    "%pip install --upgrade langchain langchain-openai chromadb\n"
   ]
  },
  {
   "cell_type": "code",
   "execution_count": 17,
   "metadata": {},
   "outputs": [],
   "source": [
    "import sqlite3\n",
    "from pydantic import BaseModel\n",
    "\n",
    "from langchain_core.documents import Document\n"
   ]
  },
  {
   "cell_type": "code",
   "execution_count": 18,
   "metadata": {},
   "outputs": [],
   "source": [
    "# read data from \"./data/db.sqlite3\"\n",
    "conn = sqlite3.connect(\"./data/db.sqlite3\")\n",
    "# create cursor\n",
    "cur = conn.cursor()\n",
    "# read data from strains_strain table\n",
    "cur.execute(\"SELECT * FROM strains_strain\")\n",
    "# fetch all data\n",
    "data = cur.fetchall()\n"
   ]
  },
  {
   "cell_type": "code",
   "execution_count": 19,
   "metadata": {},
   "outputs": [
    {
     "data": {
      "text/plain": [
       "(1,\n",
       " 'Green Crack',\n",
       " 'green-crack',\n",
       " 'Green Crack is a highly energetic and uplifting sativa-dominant strain known for its sharp focus and mental stimulation. The effects of Green Crack are invigorating, making it a popular choice for daytime use to boost creativity and productivity. This strain has a unique combination of sweet and tangy flavors with hints of citrus and tropical fruits. Green Crack is also valued for its ability to relieve stress and fatigue, providing a burst of energy without the typical crash associated with other strains.',\n",
       " 'Sativa',\n",
       " '2024-03-14 13:40:17.463182',\n",
       " '2024-03-17 21:39:09.294111',\n",
       " 'Green Crack is a legendary sativa strain known for its energizing and uplifting effects. Its bright green buds are covered in orange hairs and glistening trichomes, giving off a sweet and tangy aroma that instantly invigorates the senses. When smoked, Green Crack delivers a powerful burst of mental clarity and creativity, perfect for sparking inspiration and motivation. Its high THC content ensures a potent high that can last for hours, making it a favorite among wake-and-bake enthusiasts and creative thinkers. Embrace the energy and focus that Green Crack provides, and let your thoughts soar to new heights.',\n",
       " 'Oh Green Crack, a burst of energy you bring,\\nWith citrus flavors that make us sing.\\nEuphoria and focus in a single puff,\\nA legendary strain, never enough.\\nGreen Crack, a beloved favorite indeed,\\nInhale its magic, let your spirit feed.',\n",
       " '[\"May induce anxiety in some users\", \"Pungent smell that may be strong for some\", \"May cause dry mouth and eyes\"]',\n",
       " '[\"Energetic\", \"Happy\", \"Creative\"]',\n",
       " '[\"Citrus\", \"Sweet\", \"Earthy\"]',\n",
       " '[\"Depression\", \"Fatigue\", \"Stress\"]',\n",
       " '[\"Upbeat and energizing high\", \"Boosts creativity and focus\", \"Helps with fatigue and stress\"]',\n",
       " 'A potent and energizing sativa strain known for its sharp focus and productivity.')"
      ]
     },
     "execution_count": 19,
     "metadata": {},
     "output_type": "execute_result"
    }
   ],
   "source": [
    "data[0]\n"
   ]
  },
  {
   "cell_type": "code",
   "execution_count": 20,
   "metadata": {},
   "outputs": [
    {
     "name": "stdout",
     "output_type": "stream",
     "text": [
      "15\n"
     ]
    }
   ],
   "source": [
    "print(len(data[0]))\n"
   ]
  },
  {
   "cell_type": "code",
   "execution_count": 21,
   "metadata": {},
   "outputs": [],
   "source": [
    "class Strain(BaseModel):\n",
    "    sid: int\n",
    "    name: str\n",
    "    wikileaf_slug: str\n",
    "    description: str\n",
    "    strain_type: str\n",
    "    stoner_description: str\n",
    "    poem: str\n",
    "    cons: list[str]\n",
    "    effects: list[str]\n",
    "    flavors: list[str]\n",
    "    medical_use: list[str]\n",
    "    pros: list[str]\n",
    "    one_liner: str\n"
   ]
  },
  {
   "cell_type": "markdown",
   "metadata": {},
   "source": [
    "### Create a validation class"
   ]
  },
  {
   "cell_type": "code",
   "execution_count": 22,
   "metadata": {},
   "outputs": [],
   "source": [
    "cleaned_data: list[Strain] = []\n",
    "for row in data:\n",
    "    strain = Strain(\n",
    "        sid=row[0],\n",
    "        name=row[1],\n",
    "        wikileaf_slug=row[2],\n",
    "        description=row[3],\n",
    "        strain_type=row[4],\n",
    "        stoner_description=row[7],\n",
    "        poem=row[8],\n",
    "        cons=eval(row[9]),\n",
    "        effects=eval(row[10]),\n",
    "        flavors=eval(row[11]),\n",
    "        medical_use=eval(row[12]),\n",
    "        pros=eval(row[13]),\n",
    "        one_liner=row[14],\n",
    "    )\n",
    "    cleaned_data.append(strain)\n",
    "\n",
    "del data\n"
   ]
  },
  {
   "cell_type": "code",
   "execution_count": 23,
   "metadata": {},
   "outputs": [
    {
     "data": {
      "text/plain": [
       "[Strain(sid=1, name='Green Crack', wikileaf_slug='green-crack', description='Green Crack is a highly energetic and uplifting sativa-dominant strain known for its sharp focus and mental stimulation. The effects of Green Crack are invigorating, making it a popular choice for daytime use to boost creativity and productivity. This strain has a unique combination of sweet and tangy flavors with hints of citrus and tropical fruits. Green Crack is also valued for its ability to relieve stress and fatigue, providing a burst of energy without the typical crash associated with other strains.', strain_type='Sativa', stoner_description='Green Crack is a legendary sativa strain known for its energizing and uplifting effects. Its bright green buds are covered in orange hairs and glistening trichomes, giving off a sweet and tangy aroma that instantly invigorates the senses. When smoked, Green Crack delivers a powerful burst of mental clarity and creativity, perfect for sparking inspiration and motivation. Its high THC content ensures a potent high that can last for hours, making it a favorite among wake-and-bake enthusiasts and creative thinkers. Embrace the energy and focus that Green Crack provides, and let your thoughts soar to new heights.', poem='Oh Green Crack, a burst of energy you bring,\\nWith citrus flavors that make us sing.\\nEuphoria and focus in a single puff,\\nA legendary strain, never enough.\\nGreen Crack, a beloved favorite indeed,\\nInhale its magic, let your spirit feed.', cons=['May induce anxiety in some users', 'Pungent smell that may be strong for some', 'May cause dry mouth and eyes'], effects=['Energetic', 'Happy', 'Creative'], flavors=['Citrus', 'Sweet', 'Earthy'], medical_use=['Depression', 'Fatigue', 'Stress'], pros=['Upbeat and energizing high', 'Boosts creativity and focus', 'Helps with fatigue and stress'], one_liner='A potent and energizing sativa strain known for its sharp focus and productivity.'),\n",
       " Strain(sid=2, name='Blue Dream', wikileaf_slug='blue-dream', description='Blue Dream is a sativa-dominant hybrid cannabis strain that originated in California. It is a cross between Blueberry indica and Haze sativa. Blue Dream is known for its sweet, berry-like aroma and flavor, with hints of earthy undertones. The effects of Blue Dream are typically uplifting and cerebral, offering a sense of relaxation and euphoria. Many users appreciate Blue Dream for its ability to provide a balanced and energizing high, making it a popular choice for daytime use. This strain is also known for its high levels of THC, which can range from 17% to 24%. Overall, Blue Dream is a versatile strain that is enjoyed by both recreational and medicinal users for its balanced effects and pleasant taste.', strain_type='Sativa-dominant hybrid', stoner_description=\"Blue Dream is a legendary sativa-dominant hybrid that's a favorite among stoners for its dreamy and uplifting high. Its invigorating effects hit fast, sending you on a euphoric journey through the clouds. The sweet berry aroma and taste will have you floating in a blueberry haze, feeling relaxed and creative. Blue Dream is the perfect strain for chilling with friends, listening to music, or getting lost in a mind-bending movie. It's a must-have in every stoner's stash!\", poem='In a field of blue dreams, a haze of delight,\\nWith petals like clouds, glowing in light.\\nA scent of berries, a taste of sweet,\\nBlue Dream, a strain, a moment to meet.\\nRelaxation and joy in every inhale,\\nIn this dream-like state, worries pale.\\nBlue Dream, a treasure, a delight so rare,\\nInhale, exhale, let go of all care.', cons=['dry mouth', 'paranoia', 'anxious'], effects=['relaxation', 'happiness', 'euphoria', 'creativity', 'focus'], flavors=['blueberry', 'sweet', 'vanilla', 'herbal'], medical_use=['stress', 'depression', 'pain', 'fatigue'], pros=['uplifting', 'euphoric', 'creative', 'energizing'], one_liner='A popular sativa-dominant hybrid known for its uplifting and creative effects.'),\n",
       " Strain(sid=3, name='Sour Diesel', wikileaf_slug='sour-diesel', description='Sour Diesel, also known as Sour D, is a legendary sativa-dominant strain known for its pungent diesel-like aroma and energizing effects. This strain is popular among cannabis enthusiasts for its potent cerebral high, uplifting effects, and creative stimulation. Sour Diesel is believed to have originated in the early 1990s and has since become a staple in the cannabis community. Its vibrant green buds are complemented by orange hairs and a frosty layer of trichomes, giving it a distinct appearance.', strain_type='Sativa', stoner_description=\"A legendary strain known for its energizing and uplifting effects, Sour Diesel is a favorite among stoners for its powerful cerebral high. With a distinct fuel-like aroma and spicy, citrusy flavor, this sativa-dominant strain is perfect for boosting creativity and sparking conversations. Its buds are bright green with orange hairs, and the high THC content ensures a potent and long-lasting buzz. So, if you're looking for a strain that will keep you focused and feeling euphoric, Sour Diesel is the way to go.\", poem='Sour Diesel, a potent wave of green,\\nWith Diesel fuel scent, a sight unseen.\\nEnergizing high, a cerebral delight,\\nSour Diesel, a beacon in the night.\\nEmbrace the haze, the uplifting strain,\\nSour Diesel, a flower with no restrain.', cons=['May cause paranoia or anxiety in sensitive individuals', 'Strong cerebral effects may be overwhelming for some users', 'Dry mouth and red eyes are common side effects'], effects=['Euphoria', 'Happiness', 'Creativity', 'Energy', 'Focus'], flavors=['Diesel', 'Citrus', 'Earthy'], medical_use=['Stress relief', 'Depression', 'Fatigue', 'Pain management', 'ADHD'], pros=['Euphoric high that uplifts the spirit and boosts creativity', 'Invigorating and energizing effects that keep you alert and focused', 'Ideal for daytime use to combat fatigue and stress'], one_liner='Sour Diesel is a powerful sativa-dominant strain known for its invigorating and uplifting effects, with a distinct diesel-like aroma.'),\n",
       " Strain(sid=4, name='Gorilla Glue #4', wikileaf_slug='gorilla-glue-4', description='Gorilla Glue #4, also known as GG4, is an award-winning hybrid strain that has gained popularity for its powerful effects and unique terpene profile. This strain is known for its high THC content, often reaching up to 30%, making it a favorite among experienced cannabis users. GG4 is characterized by its dense, resinous buds that are covered in sticky trichomes, giving it a glue-like appearance. The effects of Gorilla Glue #4 are both relaxing and euphoric, making it suitable for relieving stress, pain, and insomnia. Its aroma is a complex blend of earthy, pine, and diesel notes, with hints of lemon and chocolate. Overall, Gorilla Glue #4 is favored for its potent effects, impressive terpene profile, and versatile medical benefits.', strain_type='Hybrid', stoner_description=\"Yo, let me tell you about Gorilla Glue #4, man. This strain is like a potent mix of happy and chill vibes. It hits you hard with a sense of euphoria that just makes you feel like you're floating on a cloud. The aroma is dank and earthy, with a hint of sweetness that tickles your senses. Gorilla Glue #4 is perfect for kicking back and relaxing after a long day. It's like a warm hug from your favorite bud, bringing you peace and tranquility. So, if you're looking for a strain that will melt away stress and lift your spirits, Gorilla Glue #4 is the way to go, dude.\", poem=\"Gorilla Glue #4, a potent delight,\\nSticky like glue, a cannabis delight,\\nWith buds so dense, and trichomes so bright,\\nEuphoria and relaxation take flight.\\nFrom its pungent aroma to its earthy taste,\\nGorilla Glue #4, a strain with grace.\\nA hybrid of Chem's Sister, Sour Dubb, and Chocolate Diesel,\\nInhale the essence, feel at ease and at peace,\\nGorilla Glue #4, a cannabis masterpiece.\", cons=['Strong couch-lock effect', 'Dry mouth', 'May induce paranoia in high doses'], effects=['Happy', 'Uplifted', 'Relaxed', 'Energetic', 'Creative'], flavors=['Pine', 'Earthy', 'Citrus', 'Sweet'], medical_use=['Chronic pain', 'Stress', 'Depression', 'Lack of appetite', 'Insomnia'], pros=['Euphoric high', 'Relaxing body buzz', 'Increased creativity'], one_liner='A potent and euphoric hybrid strain known for its heavy-hitting effects and sticky resinous buds.'),\n",
       " Strain(sid=5, name='Skywalker OG', wikileaf_slug='skywalker-og', description='Skywalker OG, also known as Skywalker OG Kush, is a potent indica-dominant hybrid strain that stems from Skywalker and OG Kush. It is characterized by its earthy, pine, and spicy aroma with hints of diesel. The effects of Skywalker OG are known to be powerful, providing users with a deep relaxation and euphoria, making it ideal for evening or nighttime use. This strain is popular among cannabis enthusiasts for its strong sedative properties and ability to alleviate stress, pain, and insomnia.', strain_type='Indica-dominant hybrid', stoner_description=\"Skywalker OG is a potent indica-dominant hybrid that will take you to a galaxy far, far away. This strain is known for its powerful effects that can make you feel like you're floating in the clouds. Skywalker OG has a pungent aroma with hints of diesel and spice, making it a favorite among seasoned cannabis enthusiasts. Its deep relaxation effects are perfect for chilling out after a long day or exploring the mysteries of the universe. Let the force of Skywalker OG awaken your senses and elevate your mind to new heights!\", poem=\"In a galaxy far, far away\\nSkywalker OG comes to play\\nWith a force that's strong and true\\nIts potency will surely woo\\nSoothing like the setting sun\\nA favorite strain for everyone\\nMay the calm be with you, always\\nIn Skywalker OG's relaxing haze\", cons=['May cause couch-lock', 'Can induce munchies'], effects=['Body relaxation', 'Mood elevation', 'Munchies'], flavors=['Earthy', 'Sweet', 'Pungent'], medical_use=['Stress relief', 'Pain management', 'Appetite stimulation'], pros=['Relaxing high', 'Euphoric feelings', 'Great for chilling out'], one_liner='A potent indica-dominant hybrid with a sky-high THC content and calming effects.')]"
      ]
     },
     "execution_count": 23,
     "metadata": {},
     "output_type": "execute_result"
    }
   ],
   "source": [
    "cleaned_data[:5]\n"
   ]
  },
  {
   "cell_type": "markdown",
   "metadata": {},
   "source": [
    "### Save Validated Data in json"
   ]
  },
  {
   "cell_type": "code",
   "execution_count": 24,
   "metadata": {},
   "outputs": [],
   "source": [
    "# write cleaned data to \"./data/strains.json\"\n",
    "import json\n",
    "\n",
    "with open(\"./data/strains.jsonl\", \"w\") as f:\n",
    "    json.dump(list(map(dict, cleaned_data)), f, indent=4)\n"
   ]
  },
  {
   "cell_type": "markdown",
   "metadata": {},
   "source": [
    "## Injest Data"
   ]
  },
  {
   "cell_type": "markdown",
   "metadata": {},
   "source": [
    "### Convert data to langchain Documents"
   ]
  },
  {
   "cell_type": "code",
   "execution_count": 25,
   "metadata": {},
   "outputs": [],
   "source": [
    "docs = list(\n",
    "    map(\n",
    "        lambda doc: Document(str(dict(doc)), metadata={\"name\": doc.name}),\n",
    "        cleaned_data,\n",
    "    )\n",
    ")\n"
   ]
  },
  {
   "cell_type": "code",
   "execution_count": 26,
   "metadata": {},
   "outputs": [
    {
     "name": "stdout",
     "output_type": "stream",
     "text": [
      "['Green Crack', 'Blue Dream', 'Sour Diesel', 'Gorilla Glue #4', 'Skywalker OG']\n"
     ]
    }
   ],
   "source": [
    "print(list(map(lambda doc: doc.name, cleaned_data[:5])))\n"
   ]
  },
  {
   "cell_type": "markdown",
   "metadata": {},
   "source": [
    "### Save the data"
   ]
  },
  {
   "cell_type": "code",
   "execution_count": 32,
   "metadata": {},
   "outputs": [
    {
     "ename": "RuntimeError",
     "evalue": "\u001b[91mYour system has an unsupported version of sqlite3. Chroma                     requires sqlite3 >= 3.35.0.\u001b[0m\n\u001b[94mPlease visit                     https://docs.trychroma.com/troubleshooting#sqlite to learn how                     to upgrade.\u001b[0m",
     "output_type": "error",
     "traceback": [
      "\u001b[0;31m---------------------------------------------------------------------------\u001b[0m",
      "\u001b[0;31mRuntimeError\u001b[0m                              Traceback (most recent call last)",
      "Cell \u001b[0;32mIn[32], line 17\u001b[0m\n\u001b[1;32m      7\u001b[0m embeddings \u001b[38;5;241m=\u001b[39m OpenAIEmbeddings(\n\u001b[1;32m      8\u001b[0m     model\u001b[38;5;241m=\u001b[39m\u001b[38;5;124m\"\u001b[39m\u001b[38;5;124mtext-embedding-3-large\u001b[39m\u001b[38;5;124m\"\u001b[39m,\n\u001b[1;32m      9\u001b[0m     dimensions\u001b[38;5;241m=\u001b[39m\u001b[38;5;241m256\u001b[39m,\n\u001b[0;32m   (...)\u001b[0m\n\u001b[1;32m     14\u001b[0m     retry_max_seconds\u001b[38;5;241m=\u001b[39m\u001b[38;5;241m90\u001b[39m,\n\u001b[1;32m     15\u001b[0m )\n\u001b[1;32m     16\u001b[0m cached_embedder \u001b[38;5;241m=\u001b[39m CacheBackedEmbeddings(embeddings, store)\n\u001b[0;32m---> 17\u001b[0m db \u001b[38;5;241m=\u001b[39m \u001b[43mChroma\u001b[49m\u001b[38;5;241;43m.\u001b[39;49m\u001b[43mfrom_documents\u001b[49m\u001b[43m(\u001b[49m\u001b[43mdocs\u001b[49m\u001b[43m,\u001b[49m\u001b[43m \u001b[49m\u001b[43mcached_embedder\u001b[49m\u001b[43m)\u001b[49m\n",
      "File \u001b[0;32m/mnt/d/Codes/GitHub/straindb-rag/env/lib/python3.9/site-packages/langchain_community/vectorstores/chroma.py:778\u001b[0m, in \u001b[0;36mChroma.from_documents\u001b[0;34m(cls, documents, embedding, ids, collection_name, persist_directory, client_settings, client, collection_metadata, **kwargs)\u001b[0m\n\u001b[1;32m    776\u001b[0m texts \u001b[38;5;241m=\u001b[39m [doc\u001b[38;5;241m.\u001b[39mpage_content \u001b[38;5;28;01mfor\u001b[39;00m doc \u001b[38;5;129;01min\u001b[39;00m documents]\n\u001b[1;32m    777\u001b[0m metadatas \u001b[38;5;241m=\u001b[39m [doc\u001b[38;5;241m.\u001b[39mmetadata \u001b[38;5;28;01mfor\u001b[39;00m doc \u001b[38;5;129;01min\u001b[39;00m documents]\n\u001b[0;32m--> 778\u001b[0m \u001b[38;5;28;01mreturn\u001b[39;00m \u001b[38;5;28;43mcls\u001b[39;49m\u001b[38;5;241;43m.\u001b[39;49m\u001b[43mfrom_texts\u001b[49m\u001b[43m(\u001b[49m\n\u001b[1;32m    779\u001b[0m \u001b[43m    \u001b[49m\u001b[43mtexts\u001b[49m\u001b[38;5;241;43m=\u001b[39;49m\u001b[43mtexts\u001b[49m\u001b[43m,\u001b[49m\n\u001b[1;32m    780\u001b[0m \u001b[43m    \u001b[49m\u001b[43membedding\u001b[49m\u001b[38;5;241;43m=\u001b[39;49m\u001b[43membedding\u001b[49m\u001b[43m,\u001b[49m\n\u001b[1;32m    781\u001b[0m \u001b[43m    \u001b[49m\u001b[43mmetadatas\u001b[49m\u001b[38;5;241;43m=\u001b[39;49m\u001b[43mmetadatas\u001b[49m\u001b[43m,\u001b[49m\n\u001b[1;32m    782\u001b[0m \u001b[43m    \u001b[49m\u001b[43mids\u001b[49m\u001b[38;5;241;43m=\u001b[39;49m\u001b[43mids\u001b[49m\u001b[43m,\u001b[49m\n\u001b[1;32m    783\u001b[0m \u001b[43m    \u001b[49m\u001b[43mcollection_name\u001b[49m\u001b[38;5;241;43m=\u001b[39;49m\u001b[43mcollection_name\u001b[49m\u001b[43m,\u001b[49m\n\u001b[1;32m    784\u001b[0m \u001b[43m    \u001b[49m\u001b[43mpersist_directory\u001b[49m\u001b[38;5;241;43m=\u001b[39;49m\u001b[43mpersist_directory\u001b[49m\u001b[43m,\u001b[49m\n\u001b[1;32m    785\u001b[0m \u001b[43m    \u001b[49m\u001b[43mclient_settings\u001b[49m\u001b[38;5;241;43m=\u001b[39;49m\u001b[43mclient_settings\u001b[49m\u001b[43m,\u001b[49m\n\u001b[1;32m    786\u001b[0m \u001b[43m    \u001b[49m\u001b[43mclient\u001b[49m\u001b[38;5;241;43m=\u001b[39;49m\u001b[43mclient\u001b[49m\u001b[43m,\u001b[49m\n\u001b[1;32m    787\u001b[0m \u001b[43m    \u001b[49m\u001b[43mcollection_metadata\u001b[49m\u001b[38;5;241;43m=\u001b[39;49m\u001b[43mcollection_metadata\u001b[49m\u001b[43m,\u001b[49m\n\u001b[1;32m    788\u001b[0m \u001b[43m    \u001b[49m\u001b[38;5;241;43m*\u001b[39;49m\u001b[38;5;241;43m*\u001b[39;49m\u001b[43mkwargs\u001b[49m\u001b[43m,\u001b[49m\n\u001b[1;32m    789\u001b[0m \u001b[43m\u001b[49m\u001b[43m)\u001b[49m\n",
      "File \u001b[0;32m/mnt/d/Codes/GitHub/straindb-rag/env/lib/python3.9/site-packages/langchain_community/vectorstores/chroma.py:714\u001b[0m, in \u001b[0;36mChroma.from_texts\u001b[0;34m(cls, texts, embedding, metadatas, ids, collection_name, persist_directory, client_settings, client, collection_metadata, **kwargs)\u001b[0m\n\u001b[1;32m    681\u001b[0m \u001b[38;5;129m@classmethod\u001b[39m\n\u001b[1;32m    682\u001b[0m \u001b[38;5;28;01mdef\u001b[39;00m \u001b[38;5;21mfrom_texts\u001b[39m(\n\u001b[1;32m    683\u001b[0m     \u001b[38;5;28mcls\u001b[39m: Type[Chroma],\n\u001b[0;32m   (...)\u001b[0m\n\u001b[1;32m    693\u001b[0m     \u001b[38;5;241m*\u001b[39m\u001b[38;5;241m*\u001b[39mkwargs: Any,\n\u001b[1;32m    694\u001b[0m ) \u001b[38;5;241m-\u001b[39m\u001b[38;5;241m>\u001b[39m Chroma:\n\u001b[1;32m    695\u001b[0m \u001b[38;5;250m    \u001b[39m\u001b[38;5;124;03m\"\"\"Create a Chroma vectorstore from a raw documents.\u001b[39;00m\n\u001b[1;32m    696\u001b[0m \n\u001b[1;32m    697\u001b[0m \u001b[38;5;124;03m    If a persist_directory is specified, the collection will be persisted there.\u001b[39;00m\n\u001b[0;32m   (...)\u001b[0m\n\u001b[1;32m    712\u001b[0m \u001b[38;5;124;03m        Chroma: Chroma vectorstore.\u001b[39;00m\n\u001b[1;32m    713\u001b[0m \u001b[38;5;124;03m    \"\"\"\u001b[39;00m\n\u001b[0;32m--> 714\u001b[0m     chroma_collection \u001b[38;5;241m=\u001b[39m \u001b[38;5;28;43mcls\u001b[39;49m\u001b[43m(\u001b[49m\n\u001b[1;32m    715\u001b[0m \u001b[43m        \u001b[49m\u001b[43mcollection_name\u001b[49m\u001b[38;5;241;43m=\u001b[39;49m\u001b[43mcollection_name\u001b[49m\u001b[43m,\u001b[49m\n\u001b[1;32m    716\u001b[0m \u001b[43m        \u001b[49m\u001b[43membedding_function\u001b[49m\u001b[38;5;241;43m=\u001b[39;49m\u001b[43membedding\u001b[49m\u001b[43m,\u001b[49m\n\u001b[1;32m    717\u001b[0m \u001b[43m        \u001b[49m\u001b[43mpersist_directory\u001b[49m\u001b[38;5;241;43m=\u001b[39;49m\u001b[43mpersist_directory\u001b[49m\u001b[43m,\u001b[49m\n\u001b[1;32m    718\u001b[0m \u001b[43m        \u001b[49m\u001b[43mclient_settings\u001b[49m\u001b[38;5;241;43m=\u001b[39;49m\u001b[43mclient_settings\u001b[49m\u001b[43m,\u001b[49m\n\u001b[1;32m    719\u001b[0m \u001b[43m        \u001b[49m\u001b[43mclient\u001b[49m\u001b[38;5;241;43m=\u001b[39;49m\u001b[43mclient\u001b[49m\u001b[43m,\u001b[49m\n\u001b[1;32m    720\u001b[0m \u001b[43m        \u001b[49m\u001b[43mcollection_metadata\u001b[49m\u001b[38;5;241;43m=\u001b[39;49m\u001b[43mcollection_metadata\u001b[49m\u001b[43m,\u001b[49m\n\u001b[1;32m    721\u001b[0m \u001b[43m        \u001b[49m\u001b[38;5;241;43m*\u001b[39;49m\u001b[38;5;241;43m*\u001b[39;49m\u001b[43mkwargs\u001b[49m\u001b[43m,\u001b[49m\n\u001b[1;32m    722\u001b[0m \u001b[43m    \u001b[49m\u001b[43m)\u001b[49m\n\u001b[1;32m    723\u001b[0m     \u001b[38;5;28;01mif\u001b[39;00m ids \u001b[38;5;129;01mis\u001b[39;00m \u001b[38;5;28;01mNone\u001b[39;00m:\n\u001b[1;32m    724\u001b[0m         ids \u001b[38;5;241m=\u001b[39m [\u001b[38;5;28mstr\u001b[39m(uuid\u001b[38;5;241m.\u001b[39muuid4()) \u001b[38;5;28;01mfor\u001b[39;00m _ \u001b[38;5;129;01min\u001b[39;00m texts]\n",
      "File \u001b[0;32m/mnt/d/Codes/GitHub/straindb-rag/env/lib/python3.9/site-packages/langchain_community/vectorstores/chroma.py:81\u001b[0m, in \u001b[0;36mChroma.__init__\u001b[0;34m(self, collection_name, embedding_function, persist_directory, client_settings, collection_metadata, client, relevance_score_fn)\u001b[0m\n\u001b[1;32m     79\u001b[0m \u001b[38;5;250m\u001b[39m\u001b[38;5;124;03m\"\"\"Initialize with a Chroma client.\"\"\"\u001b[39;00m\n\u001b[1;32m     80\u001b[0m \u001b[38;5;28;01mtry\u001b[39;00m:\n\u001b[0;32m---> 81\u001b[0m     \u001b[38;5;28;01mimport\u001b[39;00m \u001b[38;5;21;01mchromadb\u001b[39;00m\n\u001b[1;32m     82\u001b[0m     \u001b[38;5;28;01mimport\u001b[39;00m \u001b[38;5;21;01mchromadb\u001b[39;00m\u001b[38;5;21;01m.\u001b[39;00m\u001b[38;5;21;01mconfig\u001b[39;00m\n\u001b[1;32m     83\u001b[0m \u001b[38;5;28;01mexcept\u001b[39;00m \u001b[38;5;167;01mImportError\u001b[39;00m:\n",
      "File \u001b[0;32m/mnt/d/Codes/GitHub/straindb-rag/env/lib/python3.9/site-packages/chromadb/__init__.py:79\u001b[0m\n\u001b[1;32m     77\u001b[0m             sys\u001b[38;5;241m.\u001b[39mmodules[\u001b[38;5;124m\"\u001b[39m\u001b[38;5;124msqlite3\u001b[39m\u001b[38;5;124m\"\u001b[39m] \u001b[38;5;241m=\u001b[39m sys\u001b[38;5;241m.\u001b[39mmodules\u001b[38;5;241m.\u001b[39mpop(\u001b[38;5;124m\"\u001b[39m\u001b[38;5;124mpysqlite3\u001b[39m\u001b[38;5;124m\"\u001b[39m)\n\u001b[1;32m     78\u001b[0m         \u001b[38;5;28;01melse\u001b[39;00m:\n\u001b[0;32m---> 79\u001b[0m             \u001b[38;5;28;01mraise\u001b[39;00m \u001b[38;5;167;01mRuntimeError\u001b[39;00m(\n\u001b[1;32m     80\u001b[0m                 \u001b[38;5;124m\"\u001b[39m\u001b[38;5;130;01m\\033\u001b[39;00m\u001b[38;5;124m[91mYour system has an unsupported version of sqlite3. Chroma \u001b[39m\u001b[38;5;130;01m\\\u001b[39;00m\n\u001b[1;32m     81\u001b[0m \u001b[38;5;124m                    requires sqlite3 >= 3.35.0.\u001b[39m\u001b[38;5;130;01m\\033\u001b[39;00m\u001b[38;5;124m[0m\u001b[39m\u001b[38;5;130;01m\\n\u001b[39;00m\u001b[38;5;124m\"\u001b[39m\n\u001b[1;32m     82\u001b[0m                 \u001b[38;5;124m\"\u001b[39m\u001b[38;5;130;01m\\033\u001b[39;00m\u001b[38;5;124m[94mPlease visit \u001b[39m\u001b[38;5;130;01m\\\u001b[39;00m\n\u001b[1;32m     83\u001b[0m \u001b[38;5;124m                    https://docs.trychroma.com/troubleshooting#sqlite to learn how \u001b[39m\u001b[38;5;130;01m\\\u001b[39;00m\n\u001b[1;32m     84\u001b[0m \u001b[38;5;124m                    to upgrade.\u001b[39m\u001b[38;5;130;01m\\033\u001b[39;00m\u001b[38;5;124m[0m\u001b[39m\u001b[38;5;124m\"\u001b[39m\n\u001b[1;32m     85\u001b[0m             )\n\u001b[1;32m     88\u001b[0m \u001b[38;5;28;01mdef\u001b[39;00m \u001b[38;5;21mconfigure\u001b[39m(\u001b[38;5;241m*\u001b[39m\u001b[38;5;241m*\u001b[39mkwargs) \u001b[38;5;241m-\u001b[39m\u001b[38;5;241m>\u001b[39m \u001b[38;5;28;01mNone\u001b[39;00m:  \u001b[38;5;66;03m# type: ignore\u001b[39;00m\n\u001b[1;32m     89\u001b[0m \u001b[38;5;250m    \u001b[39m\u001b[38;5;124;03m\"\"\"Override Chroma's default settings, environment variables or .env files\"\"\"\u001b[39;00m\n",
      "\u001b[0;31mRuntimeError\u001b[0m: \u001b[91mYour system has an unsupported version of sqlite3. Chroma                     requires sqlite3 >= 3.35.0.\u001b[0m\n\u001b[94mPlease visit                     https://docs.trychroma.com/troubleshooting#sqlite to learn how                     to upgrade.\u001b[0m"
     ]
    }
   ],
   "source": [
    "from langchain.vectorstores.chroma import Chroma\n",
    "from langchain.embeddings import CacheBackedEmbeddings\n",
    "from langchain_openai.embeddings import OpenAIEmbeddings\n",
    "from langchain.storage import LocalFileStore\n",
    "\n",
    "store = LocalFileStore(\"./cache/\")\n",
    "embeddings = OpenAIEmbeddings(\n",
    "    model=\"text-embedding-3-large\",\n",
    "    dimensions=256,\n",
    "    show_progress_bar=True,\n",
    "    skip_empty=True,\n",
    "    timeout=120,\n",
    "    retry_min_seconds=60,\n",
    "    retry_max_seconds=90,\n",
    ")\n",
    "cached_embedder = CacheBackedEmbeddings(embeddings, store)\n",
    "db = Chroma.from_documents(docs, cached_embedder)\n"
   ]
  }
 ],
 "metadata": {
  "kernelspec": {
   "display_name": "Python 3",
   "language": "python",
   "name": "python3"
  },
  "language_info": {
   "codemirror_mode": {
    "name": "ipython",
    "version": 3
   },
   "file_extension": ".py",
   "mimetype": "text/x-python",
   "name": "python",
   "nbconvert_exporter": "python",
   "pygments_lexer": "ipython3",
   "version": "3.9.2"
  }
 },
 "nbformat": 4,
 "nbformat_minor": 2
}
