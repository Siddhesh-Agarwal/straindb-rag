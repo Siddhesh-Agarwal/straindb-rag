{
 "cells": [
  {
   "cell_type": "markdown",
   "metadata": {},
   "source": [
    "## Clean the Data"
   ]
  },
  {
   "cell_type": "code",
   "execution_count": 1,
   "metadata": {},
   "outputs": [],
   "source": [
    "import sqlite3\n",
    "from pydantic import BaseModel\n"
   ]
  },
  {
   "cell_type": "code",
   "execution_count": 2,
   "metadata": {},
   "outputs": [],
   "source": [
    "# read data from \"./data/db.sqlite3\"\n",
    "conn = sqlite3.connect(\"./data/db.sqlite3\")\n",
    "# create cursor\n",
    "cur = conn.cursor()\n",
    "# read data from strains_strain table\n",
    "cur.execute(\"SELECT * FROM strains_strain\")\n",
    "# fetch all data\n",
    "data = cur.fetchall()\n"
   ]
  },
  {
   "cell_type": "code",
   "execution_count": 4,
   "metadata": {},
   "outputs": [
    {
     "data": {
      "text/plain": [
       "(1,\n",
       " 'Green Crack',\n",
       " 'green-crack',\n",
       " 'Green Crack is a highly energetic and uplifting sativa-dominant strain known for its sharp focus and mental stimulation. The effects of Green Crack are invigorating, making it a popular choice for daytime use to boost creativity and productivity. This strain has a unique combination of sweet and tangy flavors with hints of citrus and tropical fruits. Green Crack is also valued for its ability to relieve stress and fatigue, providing a burst of energy without the typical crash associated with other strains.',\n",
       " 'Sativa',\n",
       " '2024-03-14 13:40:17.463182',\n",
       " '2024-03-17 21:39:09.294111',\n",
       " 'Green Crack is a legendary sativa strain known for its energizing and uplifting effects. Its bright green buds are covered in orange hairs and glistening trichomes, giving off a sweet and tangy aroma that instantly invigorates the senses. When smoked, Green Crack delivers a powerful burst of mental clarity and creativity, perfect for sparking inspiration and motivation. Its high THC content ensures a potent high that can last for hours, making it a favorite among wake-and-bake enthusiasts and creative thinkers. Embrace the energy and focus that Green Crack provides, and let your thoughts soar to new heights.',\n",
       " 'Oh Green Crack, a burst of energy you bring,\\nWith citrus flavors that make us sing.\\nEuphoria and focus in a single puff,\\nA legendary strain, never enough.\\nGreen Crack, a beloved favorite indeed,\\nInhale its magic, let your spirit feed.',\n",
       " '[\"May induce anxiety in some users\", \"Pungent smell that may be strong for some\", \"May cause dry mouth and eyes\"]',\n",
       " '[\"Energetic\", \"Happy\", \"Creative\"]',\n",
       " '[\"Citrus\", \"Sweet\", \"Earthy\"]',\n",
       " '[\"Depression\", \"Fatigue\", \"Stress\"]',\n",
       " '[\"Upbeat and energizing high\", \"Boosts creativity and focus\", \"Helps with fatigue and stress\"]',\n",
       " 'A potent and energizing sativa strain known for its sharp focus and productivity.')"
      ]
     },
     "execution_count": 4,
     "metadata": {},
     "output_type": "execute_result"
    }
   ],
   "source": [
    "data[0]\n"
   ]
  },
  {
   "cell_type": "code",
   "execution_count": 3,
   "metadata": {},
   "outputs": [
    {
     "name": "stdout",
     "output_type": "stream",
     "text": [
      "15\n"
     ]
    }
   ],
   "source": [
    "print(len(data[0]))\n"
   ]
  },
  {
   "cell_type": "code",
   "execution_count": 5,
   "metadata": {},
   "outputs": [],
   "source": [
    "class Strain(BaseModel):\n",
    "    sid: int\n",
    "    name: str\n",
    "    wikileaf_slug: str\n",
    "    description: str\n",
    "    strain_type: str\n",
    "    stoner_description: str\n",
    "    poem: str\n",
    "    cons: list[str]\n",
    "    effects: list[str]\n",
    "    flavors: list[str]\n",
    "    medical_use: list[str]\n",
    "    pros: list[str]\n",
    "    one_liner: str\n"
   ]
  },
  {
   "cell_type": "markdown",
   "metadata": {},
   "source": [
    "### Create a validation class"
   ]
  },
  {
   "cell_type": "code",
   "execution_count": 6,
   "metadata": {},
   "outputs": [],
   "source": [
    "cleaned_data: list[Strain] = []\n",
    "for row in data:\n",
    "    strain = Strain(\n",
    "        sid=row[0],\n",
    "        name=row[1],\n",
    "        wikileaf_slug=row[2],\n",
    "        description=row[3],\n",
    "        strain_type=row[4],\n",
    "        stoner_description=row[7],\n",
    "        poem=row[8],\n",
    "        cons=eval(row[9]),\n",
    "        effects=eval(row[10]),\n",
    "        flavors=eval(row[11]),\n",
    "        medical_use=eval(row[12]),\n",
    "        pros=eval(row[13]),\n",
    "        one_liner=row[14],\n",
    "    )\n",
    "    cleaned_data.append(strain)\n"
   ]
  },
  {
   "cell_type": "code",
   "execution_count": 8,
   "metadata": {},
   "outputs": [
    {
     "data": {
      "text/plain": [
       "[Strain(sid=1, name='Green Crack', wikileaf_slug='green-crack', description='Green Crack is a highly energetic and uplifting sativa-dominant strain known for its sharp focus and mental stimulation. The effects of Green Crack are invigorating, making it a popular choice for daytime use to boost creativity and productivity. This strain has a unique combination of sweet and tangy flavors with hints of citrus and tropical fruits. Green Crack is also valued for its ability to relieve stress and fatigue, providing a burst of energy without the typical crash associated with other strains.', strain_type='Sativa', stoner_description='Green Crack is a legendary sativa strain known for its energizing and uplifting effects. Its bright green buds are covered in orange hairs and glistening trichomes, giving off a sweet and tangy aroma that instantly invigorates the senses. When smoked, Green Crack delivers a powerful burst of mental clarity and creativity, perfect for sparking inspiration and motivation. Its high THC content ensures a potent high that can last for hours, making it a favorite among wake-and-bake enthusiasts and creative thinkers. Embrace the energy and focus that Green Crack provides, and let your thoughts soar to new heights.', poem='Oh Green Crack, a burst of energy you bring,\\nWith citrus flavors that make us sing.\\nEuphoria and focus in a single puff,\\nA legendary strain, never enough.\\nGreen Crack, a beloved favorite indeed,\\nInhale its magic, let your spirit feed.', cons=['May induce anxiety in some users', 'Pungent smell that may be strong for some', 'May cause dry mouth and eyes'], effects=['Energetic', 'Happy', 'Creative'], flavors=['Citrus', 'Sweet', 'Earthy'], medical_use=['Depression', 'Fatigue', 'Stress'], pros=['Upbeat and energizing high', 'Boosts creativity and focus', 'Helps with fatigue and stress'], one_liner='A potent and energizing sativa strain known for its sharp focus and productivity.'),\n",
       " Strain(sid=2, name='Blue Dream', wikileaf_slug='blue-dream', description='Blue Dream is a sativa-dominant hybrid cannabis strain that originated in California. It is a cross between Blueberry indica and Haze sativa. Blue Dream is known for its sweet, berry-like aroma and flavor, with hints of earthy undertones. The effects of Blue Dream are typically uplifting and cerebral, offering a sense of relaxation and euphoria. Many users appreciate Blue Dream for its ability to provide a balanced and energizing high, making it a popular choice for daytime use. This strain is also known for its high levels of THC, which can range from 17% to 24%. Overall, Blue Dream is a versatile strain that is enjoyed by both recreational and medicinal users for its balanced effects and pleasant taste.', strain_type='Sativa-dominant hybrid', stoner_description=\"Blue Dream is a legendary sativa-dominant hybrid that's a favorite among stoners for its dreamy and uplifting high. Its invigorating effects hit fast, sending you on a euphoric journey through the clouds. The sweet berry aroma and taste will have you floating in a blueberry haze, feeling relaxed and creative. Blue Dream is the perfect strain for chilling with friends, listening to music, or getting lost in a mind-bending movie. It's a must-have in every stoner's stash!\", poem='In a field of blue dreams, a haze of delight,\\nWith petals like clouds, glowing in light.\\nA scent of berries, a taste of sweet,\\nBlue Dream, a strain, a moment to meet.\\nRelaxation and joy in every inhale,\\nIn this dream-like state, worries pale.\\nBlue Dream, a treasure, a delight so rare,\\nInhale, exhale, let go of all care.', cons=['dry mouth', 'paranoia', 'anxious'], effects=['relaxation', 'happiness', 'euphoria', 'creativity', 'focus'], flavors=['blueberry', 'sweet', 'vanilla', 'herbal'], medical_use=['stress', 'depression', 'pain', 'fatigue'], pros=['uplifting', 'euphoric', 'creative', 'energizing'], one_liner='A popular sativa-dominant hybrid known for its uplifting and creative effects.'),\n",
       " Strain(sid=3, name='Sour Diesel', wikileaf_slug='sour-diesel', description='Sour Diesel, also known as Sour D, is a legendary sativa-dominant strain known for its pungent diesel-like aroma and energizing effects. This strain is popular among cannabis enthusiasts for its potent cerebral high, uplifting effects, and creative stimulation. Sour Diesel is believed to have originated in the early 1990s and has since become a staple in the cannabis community. Its vibrant green buds are complemented by orange hairs and a frosty layer of trichomes, giving it a distinct appearance.', strain_type='Sativa', stoner_description=\"A legendary strain known for its energizing and uplifting effects, Sour Diesel is a favorite among stoners for its powerful cerebral high. With a distinct fuel-like aroma and spicy, citrusy flavor, this sativa-dominant strain is perfect for boosting creativity and sparking conversations. Its buds are bright green with orange hairs, and the high THC content ensures a potent and long-lasting buzz. So, if you're looking for a strain that will keep you focused and feeling euphoric, Sour Diesel is the way to go.\", poem='Sour Diesel, a potent wave of green,\\nWith Diesel fuel scent, a sight unseen.\\nEnergizing high, a cerebral delight,\\nSour Diesel, a beacon in the night.\\nEmbrace the haze, the uplifting strain,\\nSour Diesel, a flower with no restrain.', cons=['May cause paranoia or anxiety in sensitive individuals', 'Strong cerebral effects may be overwhelming for some users', 'Dry mouth and red eyes are common side effects'], effects=['Euphoria', 'Happiness', 'Creativity', 'Energy', 'Focus'], flavors=['Diesel', 'Citrus', 'Earthy'], medical_use=['Stress relief', 'Depression', 'Fatigue', 'Pain management', 'ADHD'], pros=['Euphoric high that uplifts the spirit and boosts creativity', 'Invigorating and energizing effects that keep you alert and focused', 'Ideal for daytime use to combat fatigue and stress'], one_liner='Sour Diesel is a powerful sativa-dominant strain known for its invigorating and uplifting effects, with a distinct diesel-like aroma.'),\n",
       " Strain(sid=4, name='Gorilla Glue #4', wikileaf_slug='gorilla-glue-4', description='Gorilla Glue #4, also known as GG4, is an award-winning hybrid strain that has gained popularity for its powerful effects and unique terpene profile. This strain is known for its high THC content, often reaching up to 30%, making it a favorite among experienced cannabis users. GG4 is characterized by its dense, resinous buds that are covered in sticky trichomes, giving it a glue-like appearance. The effects of Gorilla Glue #4 are both relaxing and euphoric, making it suitable for relieving stress, pain, and insomnia. Its aroma is a complex blend of earthy, pine, and diesel notes, with hints of lemon and chocolate. Overall, Gorilla Glue #4 is favored for its potent effects, impressive terpene profile, and versatile medical benefits.', strain_type='Hybrid', stoner_description=\"Yo, let me tell you about Gorilla Glue #4, man. This strain is like a potent mix of happy and chill vibes. It hits you hard with a sense of euphoria that just makes you feel like you're floating on a cloud. The aroma is dank and earthy, with a hint of sweetness that tickles your senses. Gorilla Glue #4 is perfect for kicking back and relaxing after a long day. It's like a warm hug from your favorite bud, bringing you peace and tranquility. So, if you're looking for a strain that will melt away stress and lift your spirits, Gorilla Glue #4 is the way to go, dude.\", poem=\"Gorilla Glue #4, a potent delight,\\nSticky like glue, a cannabis delight,\\nWith buds so dense, and trichomes so bright,\\nEuphoria and relaxation take flight.\\nFrom its pungent aroma to its earthy taste,\\nGorilla Glue #4, a strain with grace.\\nA hybrid of Chem's Sister, Sour Dubb, and Chocolate Diesel,\\nInhale the essence, feel at ease and at peace,\\nGorilla Glue #4, a cannabis masterpiece.\", cons=['Strong couch-lock effect', 'Dry mouth', 'May induce paranoia in high doses'], effects=['Happy', 'Uplifted', 'Relaxed', 'Energetic', 'Creative'], flavors=['Pine', 'Earthy', 'Citrus', 'Sweet'], medical_use=['Chronic pain', 'Stress', 'Depression', 'Lack of appetite', 'Insomnia'], pros=['Euphoric high', 'Relaxing body buzz', 'Increased creativity'], one_liner='A potent and euphoric hybrid strain known for its heavy-hitting effects and sticky resinous buds.'),\n",
       " Strain(sid=5, name='Skywalker OG', wikileaf_slug='skywalker-og', description='Skywalker OG, also known as Skywalker OG Kush, is a potent indica-dominant hybrid strain that stems from Skywalker and OG Kush. It is characterized by its earthy, pine, and spicy aroma with hints of diesel. The effects of Skywalker OG are known to be powerful, providing users with a deep relaxation and euphoria, making it ideal for evening or nighttime use. This strain is popular among cannabis enthusiasts for its strong sedative properties and ability to alleviate stress, pain, and insomnia.', strain_type='Indica-dominant hybrid', stoner_description=\"Skywalker OG is a potent indica-dominant hybrid that will take you to a galaxy far, far away. This strain is known for its powerful effects that can make you feel like you're floating in the clouds. Skywalker OG has a pungent aroma with hints of diesel and spice, making it a favorite among seasoned cannabis enthusiasts. Its deep relaxation effects are perfect for chilling out after a long day or exploring the mysteries of the universe. Let the force of Skywalker OG awaken your senses and elevate your mind to new heights!\", poem=\"In a galaxy far, far away\\nSkywalker OG comes to play\\nWith a force that's strong and true\\nIts potency will surely woo\\nSoothing like the setting sun\\nA favorite strain for everyone\\nMay the calm be with you, always\\nIn Skywalker OG's relaxing haze\", cons=['May cause couch-lock', 'Can induce munchies'], effects=['Body relaxation', 'Mood elevation', 'Munchies'], flavors=['Earthy', 'Sweet', 'Pungent'], medical_use=['Stress relief', 'Pain management', 'Appetite stimulation'], pros=['Relaxing high', 'Euphoric feelings', 'Great for chilling out'], one_liner='A potent indica-dominant hybrid with a sky-high THC content and calming effects.')]"
      ]
     },
     "execution_count": 8,
     "metadata": {},
     "output_type": "execute_result"
    }
   ],
   "source": [
    "cleaned_data[:5]\n"
   ]
  },
  {
   "cell_type": "markdown",
   "metadata": {},
   "source": [
    "### Save Validated Data in json"
   ]
  },
  {
   "cell_type": "code",
   "execution_count": 9,
   "metadata": {},
   "outputs": [],
   "source": [
    "# write cleaned data to \"./data/strains.json\"\n",
    "import json\n",
    "\n",
    "with open(\"./data/strains.json\", \"w\") as f:\n",
    "    json.dump(list(map(lambda data: dict(data), cleaned_data)), f, indent=4)\n"
   ]
  }
 ],
 "metadata": {
  "kernelspec": {
   "display_name": "Python 3",
   "language": "python",
   "name": "python3"
  },
  "language_info": {
   "codemirror_mode": {
    "name": "ipython",
    "version": 3
   },
   "file_extension": ".py",
   "mimetype": "text/x-python",
   "name": "python",
   "nbconvert_exporter": "python",
   "pygments_lexer": "ipython3",
   "version": "3.10.13"
  }
 },
 "nbformat": 4,
 "nbformat_minor": 2
}
