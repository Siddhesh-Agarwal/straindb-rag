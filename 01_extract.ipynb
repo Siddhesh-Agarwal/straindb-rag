{
 "cells": [
  {
   "cell_type": "markdown",
   "metadata": {},
   "source": [
    "## Clean the Data"
   ]
  },
  {
   "cell_type": "code",
   "execution_count": 12,
   "metadata": {},
   "outputs": [],
   "source": [
    "import sqlite3\n",
    "from pydantic import BaseModel\n"
   ]
  },
  {
   "cell_type": "code",
   "execution_count": 8,
   "metadata": {},
   "outputs": [],
   "source": [
    "# read data from \"./data/db.sqlite3\"\n",
    "conn = sqlite3.connect(\"./data/db.sqlite3\")\n",
    "# create cursor\n",
    "cur = conn.cursor()\n",
    "# read data from strains_strain table\n",
    "cur.execute(\"SELECT * FROM strains_strain\")\n",
    "# fetch all data\n",
    "data = cur.fetchall()\n"
   ]
  },
  {
   "cell_type": "code",
   "execution_count": 6,
   "metadata": {},
   "outputs": [
    {
     "data": {
      "text/plain": [
       "(1,\n",
       " 'Green Crack',\n",
       " 'green-crack',\n",
       " 'Green Crack is a highly energetic and uplifting sativa-dominant strain known for its sharp focus and mental stimulation. The effects of Green Crack are invigorating, making it a popular choice for daytime use to boost creativity and productivity. This strain has a unique combination of sweet and tangy flavors with hints of citrus and tropical fruits. Green Crack is also valued for its ability to relieve stress and fatigue, providing a burst of energy without the typical crash associated with other strains.',\n",
       " 'Sativa',\n",
       " '2024-03-14 13:40:17.463182',\n",
       " '2024-03-17 21:39:09.294111',\n",
       " 'Green Crack is a legendary sativa strain known for its energizing and uplifting effects. Its bright green buds are covered in orange hairs and glistening trichomes, giving off a sweet and tangy aroma that instantly invigorates the senses. When smoked, Green Crack delivers a powerful burst of mental clarity and creativity, perfect for sparking inspiration and motivation. Its high THC content ensures a potent high that can last for hours, making it a favorite among wake-and-bake enthusiasts and creative thinkers. Embrace the energy and focus that Green Crack provides, and let your thoughts soar to new heights.',\n",
       " 'Oh Green Crack, a burst of energy you bring,\\nWith citrus flavors that make us sing.\\nEuphoria and focus in a single puff,\\nA legendary strain, never enough.\\nGreen Crack, a beloved favorite indeed,\\nInhale its magic, let your spirit feed.',\n",
       " '[\"May induce anxiety in some users\", \"Pungent smell that may be strong for some\", \"May cause dry mouth and eyes\"]',\n",
       " '[\"Energetic\", \"Happy\", \"Creative\"]',\n",
       " '[\"Citrus\", \"Sweet\", \"Earthy\"]',\n",
       " '[\"Depression\", \"Fatigue\", \"Stress\"]',\n",
       " '[\"Upbeat and energizing high\", \"Boosts creativity and focus\", \"Helps with fatigue and stress\"]',\n",
       " 'A potent and energizing sativa strain known for its sharp focus and productivity.')"
      ]
     },
     "execution_count": 6,
     "metadata": {},
     "output_type": "execute_result"
    }
   ],
   "source": [
    "data[0]\n"
   ]
  },
  {
   "cell_type": "code",
   "execution_count": 15,
   "metadata": {},
   "outputs": [
    {
     "name": "stdout",
     "output_type": "stream",
     "text": [
      "15\n"
     ]
    }
   ],
   "source": [
    "print(len(data[0]))\n"
   ]
  },
  {
   "cell_type": "code",
   "execution_count": 16,
   "metadata": {},
   "outputs": [],
   "source": [
    "class Strain(BaseModel):\n",
    "    sid: int\n",
    "    name: str\n",
    "    wikileaf_slug: str\n",
    "    description: str\n",
    "    strain_type: str\n",
    "    stoner_description: str\n",
    "    poem: str\n",
    "    cons: list[str]\n",
    "    effects: list[str]\n",
    "    flavors: list[str]\n",
    "    medical_use: list[str]\n",
    "    pros: list[str]\n",
    "    one_liner: str\n"
   ]
  },
  {
   "cell_type": "markdown",
   "metadata": {},
   "source": [
    "### Create a validation class"
   ]
  },
  {
   "cell_type": "code",
   "execution_count": 23,
   "metadata": {},
   "outputs": [],
   "source": [
    "cleaned_data: list[Strain] = []\n",
    "for row in data:\n",
    "    strain = Strain(\n",
    "        sid=row[0],\n",
    "        name=row[1],\n",
    "        wikileaf_slug=row[2],\n",
    "        description=row[3],\n",
    "        strain_type=row[4],\n",
    "        stoner_description=row[7],\n",
    "        poem=row[8],\n",
    "        cons=eval(row[9]),\n",
    "        effects=eval(row[10]),\n",
    "        flavors=eval(row[11]),\n",
    "        medical_use=eval(row[12]),\n",
    "        pros=eval(row[13]),\n",
    "        one_liner=row[14],\n",
    "    )\n",
    "    cleaned_data.append(strain)\n"
   ]
  },
  {
   "cell_type": "code",
   "execution_count": null,
   "metadata": {},
   "outputs": [],
   "source": [
    "cleaned_data\n"
   ]
  },
  {
   "cell_type": "markdown",
   "metadata": {},
   "source": [
    "### Save Validated Data in json"
   ]
  },
  {
   "cell_type": "code",
   "execution_count": 27,
   "metadata": {},
   "outputs": [],
   "source": [
    "# write cleaned data to \"./data/strains.json\"\n",
    "import json\n",
    "\n",
    "with open(\"./data/strains.json\", \"w\") as f:\n",
    "    json.dump(list(map(lambda data: dict(data), cleaned_data)), f, indent=4)\n"
   ]
  }
 ],
 "metadata": {
  "kernelspec": {
   "display_name": "Python 3",
   "language": "python",
   "name": "python3"
  },
  "language_info": {
   "codemirror_mode": {
    "name": "ipython",
    "version": 3
   },
   "file_extension": ".py",
   "mimetype": "text/x-python",
   "name": "python",
   "nbconvert_exporter": "python",
   "pygments_lexer": "ipython3",
   "version": "3.10.13"
  }
 },
 "nbformat": 4,
 "nbformat_minor": 2
}
